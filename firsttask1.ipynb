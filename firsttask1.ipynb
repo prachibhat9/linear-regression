{
 "cells": [
  {
   "cell_type": "code",
   "execution_count": 6,
   "id": "a02ac708",
   "metadata": {},
   "outputs": [
    {
     "ename": "ModuleNotFoundError",
     "evalue": "No module named 'matplotlib'",
     "output_type": "error",
     "traceback": [
      "\u001b[1;31m---------------------------------------------------------------------------\u001b[0m",
      "\u001b[1;31mModuleNotFoundError\u001b[0m                       Traceback (most recent call last)",
      "Cell \u001b[1;32mIn[6], line 3\u001b[0m\n\u001b[0;32m      1\u001b[0m \u001b[38;5;28;01mimport\u001b[39;00m \u001b[38;5;21;01mpandas\u001b[39;00m \u001b[38;5;28;01mas\u001b[39;00m \u001b[38;5;21;01mpd\u001b[39;00m\n\u001b[0;32m      2\u001b[0m \u001b[38;5;28;01mimport\u001b[39;00m \u001b[38;5;21;01mnumpy\u001b[39;00m \u001b[38;5;28;01mas\u001b[39;00m \u001b[38;5;21;01mnp\u001b[39;00m\n\u001b[1;32m----> 3\u001b[0m \u001b[38;5;28;01mimport\u001b[39;00m \u001b[38;5;21;01mmatplotlib\u001b[39;00m\u001b[38;5;21;01m.\u001b[39;00m\u001b[38;5;21;01mpyplot\u001b[39;00m\n\u001b[0;32m      5\u001b[0m df\u001b[38;5;241m=\u001b[39mpd\u001b[38;5;241m.\u001b[39mread_csv(\u001b[38;5;124mr\u001b[39m\u001b[38;5;124m\"\u001b[39m\u001b[38;5;124mC:\u001b[39m\u001b[38;5;124m\\\u001b[39m\u001b[38;5;124mUsers\u001b[39m\u001b[38;5;124m\\\u001b[39m\u001b[38;5;124mPrachi Bhat\u001b[39m\u001b[38;5;124m\\\u001b[39m\u001b[38;5;124mDownloads\u001b[39m\u001b[38;5;124m\\\u001b[39m\u001b[38;5;124mtrain.csv\u001b[39m\u001b[38;5;124m\"\u001b[39m)\n\u001b[0;32m      6\u001b[0m y_train\u001b[38;5;241m=\u001b[39mdf[\u001b[38;5;124m\"\u001b[39m\u001b[38;5;124mSalePrice\u001b[39m\u001b[38;5;124m\"\u001b[39m]\n",
      "\u001b[1;31mModuleNotFoundError\u001b[0m: No module named 'matplotlib'"
     ]
    }
   ],
   "source": [
    "import pandas as pd\n",
    "import numpy as np\n",
    "import matplotlib.pyplot as plt\n",
    "\n",
    "df=pd.read_csv(r\"C:\\Users\\Prachi Bhat\\Downloads\\train.csv\")\n",
    "y_train=df[\"SalePrice\"]\n",
    "x_train=df.drop(\"SalePrice\",axis=1)\n",
    "df1=pd.read_csv(r\"C:\\Users\\Prachi Bhat\\Downloads\\test (1).csv\")\n",
    "y_test=df1[\"SalePrice\"]\n",
    "x_test=df1.drop(\"SalePrice\",axis=1)\n",
    "\n",
    "plt.scatter(x_train[:,0],y_train)\n",
    "plt.show()\n",
    "\n",
    "\n",
    "reg=linearregression()\n",
    "reg.fit(x_train,y_train)\n",
    "predict=reg.predict(x_test)\n",
    "\n",
    "def mse(y_test,predict)::\n",
    "        \n",
    "    np.mean((predict-y_test)**2)\n",
    "    \n",
    "plt.plot(x,predict)\n",
    "plt.show()"
   ]
  },
  {
   "cell_type": "code",
   "execution_count": null,
   "id": "0b4a1566",
   "metadata": {},
   "outputs": [],
   "source": [
    "class linearregression:\n",
    "    def_init_(self,lr=0.001,no_it=1000):\n",
    "        self.lr=lr\n",
    "        self.no_it=no_it\n",
    "        self.weights=None\n",
    "        self.bias=None\n",
    "        \n",
    "        \n",
    "     def fit(self,x,y):\n",
    "        nf=x.shape[0]\n",
    "        self.weights=np.zero(nf)\n",
    "        self.bias=0\n",
    "        y_pred=np.dot(x,self.weights)+self.bias\n",
    "        \n",
    "        for i in range(no_it):\n",
    "            dw=(1/nf)*np.dot(x,(y_pred-y))\n",
    "            db=(1/nf)*np.sum(y_pred-y)\n",
    "            \n",
    "            self.weights=self.weights-self.lr*dw\n",
    "            self.bias=self.bias-self.lr*db\n",
    "            \n",
    "            \n",
    "        def predict(self,x):\n",
    "            ypred=np.dot(x,self.weights)+self.bias\n",
    "            return ypred\n",
    "        \n"
   ]
  }
 ],
 "metadata": {
  "kernelspec": {
   "display_name": "Python 3 (ipykernel)",
   "language": "python",
   "name": "python3"
  },
  "language_info": {
   "codemirror_mode": {
    "name": "ipython",
    "version": 3
   },
   "file_extension": ".py",
   "mimetype": "text/x-python",
   "name": "python",
   "nbconvert_exporter": "python",
   "pygments_lexer": "ipython3",
   "version": "3.10.9"
  }
 },
 "nbformat": 4,
 "nbformat_minor": 5
}
