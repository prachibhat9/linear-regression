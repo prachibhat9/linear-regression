{
 "cells": [
  {
   "cell_type": "code",
   "execution_count": null,
   "id": "00466a8d",
   "metadata": {},
   "outputs": [],
   "source": [
    "import pandas as pd\n",
    "import numpy as np\n",
    "import matplotlib.pyplot\n",
    "\n",
    "df=pd.read_csv(r\"C:\\Users\\Prachi Bhat\\Downloads\\train (1).csv\")\n",
    "y_train=df[\"Survived\"]\n",
    "x_train=df.drop(\"Survived\",axis=1)\n",
    "x_train=df.drop(\"Name\",axis=1)\n",
    "df1=pd.read_csv(r\"C:\\Users\\Prachi Bhat\\Downloads\\test (2).csv\")\n",
    "y_test=df1[\"Survived\"]\n",
    "x_test=df1.drop(\"Survived\",axis=1)\n",
    "x_test=df1.drop(\"Name\",axis=1)\n",
    "\n",
    "plt.scatter(x_train[:,0],y_train)\n",
    "plt.show()"
   ]
  },
  {
   "cell_type": "code",
   "execution_count": null,
   "id": "e5656bb1",
   "metadata": {},
   "outputs": [],
   "source": [
    "def sigmoid(x):\n",
    "    return 1/(1+np.exp(-x))"
   ]
  },
  {
   "cell_type": "markdown",
   "id": "564d3402",
   "metadata": {},
   "source": [
    "def model(x_train,y_train,lr,iteration):\n",
    "    m=x_train.shape[1]\n",
    "    n=x_train.shape[1]\n",
    "    w=np.zero((n,1))\n",
    "    b=0\n",
    "    for i in range(iteration):\n",
    "        z=np.dot(w.T,x)+b\n",
    "        a=sigmoid(z)\n",
    "        cost=-(1/m)*np.sum(y*np.log(a)+(1-y)*np.log(1-a))\n",
    "        dw=(1/m)*np.dot(a-y,x.T)\n",
    "        db=(1/m)*np.sum(a-y)\n",
    "        w=w-lr*dw.T\n",
    "        b=b-lr*db\n",
    "        cost_list.append(cost)\n",
    "        if (i%100==0)\n",
    "        print(cost)\n",
    "        return w,b,cost\n",
    "        "
   ]
  },
  {
   "cell_type": "code",
   "execution_count": null,
   "id": "c01b609f",
   "metadata": {},
   "outputs": [],
   "source": [
    "iteration=1000\n",
    "lr=0.001\n",
    "w,b,cost=model(x_train,y_train,lr,iteration,cost)"
   ]
  },
  {
   "cell_type": "code",
   "execution_count": null,
   "id": "fd52e449",
   "metadata": {},
   "outputs": [],
   "source": [
    "plt.plot(np.arrange(iteration),cost)"
   ]
  },
  {
   "cell_type": "code",
   "execution_count": null,
   "id": "002839d8",
   "metadata": {},
   "outputs": [],
   "source": [
    "def accuracy(x,y,w,b):\n",
    "    z=np.dot(w.t,x)+b\n",
    "    a=sigmoid(a)\n",
    "    a=a>0.5\n",
    "    a=np.array(a.dtype='int64')\n",
    "    acc=(1-np.sum(np.absolute(a-y))/y.shape[1])*100\n",
    "    print(\"accuracy of the model is:\",acc,%)"
   ]
  },
  {
   "cell_type": "code",
   "execution_count": null,
   "id": "256d5e2e",
   "metadata": {},
   "outputs": [],
   "source": [
    "accuracy(x_test,y_test,w,b)\n",
    "accuray of the model is:(x_test,y_test,w,b)"
   ]
  },
  {
   "cell_type": "code",
   "execution_count": null,
   "id": "9081ce38",
   "metadata": {},
   "outputs": [],
   "source": []
  }
 ],
 "metadata": {
  "kernelspec": {
   "display_name": "Python 3 (ipykernel)",
   "language": "python",
   "name": "python3"
  },
  "language_info": {
   "codemirror_mode": {
    "name": "ipython",
    "version": 3
   },
   "file_extension": ".py",
   "mimetype": "text/x-python",
   "name": "python",
   "nbconvert_exporter": "python",
   "pygments_lexer": "ipython3",
   "version": "3.10.9"
  }
 },
 "nbformat": 4,
 "nbformat_minor": 5
}
